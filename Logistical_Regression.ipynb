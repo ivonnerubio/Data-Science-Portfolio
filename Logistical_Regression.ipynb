{
  "nbformat": 4,
  "nbformat_minor": 0,
  "metadata": {
    "colab": {
      "provenance": []
    },
    "kernelspec": {
      "name": "python3",
      "display_name": "Python 3"
    },
    "language_info": {
      "name": "python"
    }
  },
  "cells": [
    {
      "cell_type": "code",
      "execution_count": 44,
      "metadata": {
        "id": "FL1c1XSeq-nw"
      },
      "outputs": [],
      "source": [
        "import numpy as np\n",
        "import matplotlib.pyplot as plt\n",
        "import pandas as pd\n",
        "from utils import *\n"
      ]
    },
    {
      "cell_type": "code",
      "source": [
        "n = 20\n",
        "x = np.arange(0,n)\n",
        "y = np.arange(0,n)"
      ],
      "metadata": {
        "id": "j2BgFeR5rE6o"
      },
      "execution_count": 2,
      "outputs": []
    },
    {
      "cell_type": "code",
      "source": [
        "y = 1 / (1 + np.e ** -x)"
      ],
      "metadata": {
        "id": "lfV09E0NttEq"
      },
      "execution_count": 3,
      "outputs": []
    },
    {
      "cell_type": "code",
      "source": [
        "plt.scatter(x,y)"
      ],
      "metadata": {
        "colab": {
          "base_uri": "https://localhost:8080/",
          "height": 447
        },
        "id": "aEH689N_rPkZ",
        "outputId": "6e123bfd-2b52-468f-a99c-e171a896fa69"
      },
      "execution_count": 4,
      "outputs": [
        {
          "output_type": "execute_result",
          "data": {
            "text/plain": [
              "<matplotlib.collections.PathCollection at 0x797763dc9570>"
            ]
          },
          "metadata": {},
          "execution_count": 4
        },
        {
          "output_type": "display_data",
          "data": {
            "text/plain": [
              "<Figure size 640x480 with 1 Axes>"
            ],
            "image/png": "[encoded data removed]"
          },
          "metadata": {}
        }
      ]
    },
    {
      "cell_type": "code",
      "source": [
        "def sigmoid(z):\n",
        "  return (1/(1+np.e **-z))"
      ],
      "metadata": {
        "id": "gTDUBHgkuLCT"
      },
      "execution_count": 15,
      "outputs": []
    },
    {
      "cell_type": "code",
      "source": [
        "sigmoid(0)"
      ],
      "metadata": {
        "colab": {
          "base_uri": "https://localhost:8080/"
        },
        "id": "U1aZdqiYcxPs",
        "outputId": "b6ffa1e7-d65e-412e-e685-26dbf7bbcc23"
      },
      "execution_count": 16,
      "outputs": [
        {
          "output_type": "execute_result",
          "data": {
            "text/plain": [
              "0.5"
            ]
          },
          "metadata": {},
          "execution_count": 16
        }
      ]
    },
    {
      "cell_type": "code",
      "source": [
        "sigmoid(np.array([-1,0,1,2]))"
      ],
      "metadata": {
        "colab": {
          "base_uri": "https://localhost:8080/"
        },
        "id": "plGvcWjFdBQU",
        "outputId": "7fabe1b1-f28b-4dce-a444-dcb0d6acf6f5"
      },
      "execution_count": 17,
      "outputs": [
        {
          "output_type": "execute_result",
          "data": {
            "text/plain": [
              "array([0.26894142, 0.5       , 0.73105858, 0.88079708])"
            ]
          },
          "metadata": {},
          "execution_count": 17
        }
      ]
    },
    {
      "cell_type": "code",
      "source": [
        "def cost(x,y,w,b):\n",
        "  m,n = x.shape\n",
        "\n",
        "  loss_sum = 0\n",
        "  for i in range(m):\n",
        "    z_wb = 0\n",
        "    for j in range(n):\n",
        "      z_wb_i = w[j] * x[i][j]\n",
        "      z_wb = z_wb + z_wb_i\n",
        "    z_wb = z_wb + b\n",
        "    f_wb = sigmoid(z_wb)\n",
        "\n",
        "    loss = (-y[i] * np.log(f_wb)) - (1-y[i]) * np.log(1-f_wb)\n",
        "    loss_sum += loss\n",
        "  cost = (1/m) * loss_sum\n",
        "\n",
        "  return cost"
      ],
      "metadata": {
        "id": "JBdJXQTIdrbl"
      },
      "execution_count": 82,
      "outputs": []
    },
    {
      "cell_type": "code",
      "source": [
        "# load dataset\n",
        "X_train, y_train = load_data(\"ex2data1.txt\")"
      ],
      "metadata": {
        "id": "XfRc1CTDjCPn"
      },
      "execution_count": 83,
      "outputs": []
    },
    {
      "cell_type": "code",
      "source": [
        "m, n = X_train.shape\n",
        "\n",
        "# Compute and display cost with w and b initialized to zeros\n",
        "initial_w = np.zeros(n)\n",
        "initial_b = 0.\n",
        "cost = cost(X_train, y_train, initial_w, initial_b)\n",
        "print('Cost at initial w and b (zeros): {:.3f}'.format(cost))"
      ],
      "metadata": {
        "colab": {
          "base_uri": "https://localhost:8080/"
        },
        "id": "yvcwKLV0eI50",
        "outputId": "dbc255e9-eb20-4f7f-fa51-acb6a0ae29cf"
      },
      "execution_count": 84,
      "outputs": [
        {
          "output_type": "stream",
          "name": "stdout",
          "text": [
            "Cost at initial w and b (zeros): 0.693\n"
          ]
        }
      ]
    },
    {
      "cell_type": "code",
      "source": [],
      "metadata": {
        "id": "gl1Bcz1ueMfp"
      },
      "execution_count": null,
      "outputs": []
    }
  ]
}